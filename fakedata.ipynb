{
 "cells": [
  {
   "cell_type": "code",
   "execution_count": 13,
   "metadata": {},
   "outputs": [
    {
     "ename": "NameError",
     "evalue": "name 'x' is not defined",
     "output_type": "error",
     "traceback": [
      "\u001b[0;31m---------------------------------------------------------------------------\u001b[0m",
      "\u001b[0;31mNameError\u001b[0m                                 Traceback (most recent call last)",
      "Cell \u001b[0;32mIn[13], line 24\u001b[0m\n\u001b[1;32m     20\u001b[0m                 \u001b[39m#   'Team':np.random.choice(team_list)} for x in range(num)]\u001b[39;00m\n\u001b[1;32m     22\u001b[0m     \u001b[39mreturn\u001b[39;00m fake_workers\n\u001b[0;32m---> 24\u001b[0m worker_df \u001b[39m=\u001b[39m pd\u001b[39m.\u001b[39mDataFrame(make_workers(num\u001b[39m=\u001b[39;49m\u001b[39m5000\u001b[39;49m))\n\u001b[1;32m     25\u001b[0m worker_df\u001b[39m.\u001b[39mhead()\n",
      "Cell \u001b[0;32mIn[13], line 16\u001b[0m, in \u001b[0;36mmake_workers\u001b[0;34m(num)\u001b[0m\n\u001b[1;32m     12\u001b[0m status_list \u001b[39m=\u001b[39m [\u001b[39m'\u001b[39m\u001b[39mFull Time\u001b[39m\u001b[39m'\u001b[39m, \u001b[39m'\u001b[39m\u001b[39mPart Time\u001b[39m\u001b[39m'\u001b[39m, \u001b[39m'\u001b[39m\u001b[39mContractual\u001b[39m\u001b[39m'\u001b[39m]\n\u001b[1;32m     13\u001b[0m team_list \u001b[39m=\u001b[39m [fake\u001b[39m.\u001b[39mcolor_name() \u001b[39mfor\u001b[39;00m x \u001b[39min\u001b[39;00m \u001b[39mrange\u001b[39m(\u001b[39m4\u001b[39m)]\n\u001b[0;32m---> 16\u001b[0m fake_workers \u001b[39m=\u001b[39m [{\u001b[39m'\u001b[39m\u001b[39mWorker ID\u001b[39m\u001b[39m'\u001b[39m:x\u001b[39m+\u001b[39m\u001b[39m1000\u001b[39m,\n\u001b[1;32m     17\u001b[0m               \u001b[39m'\u001b[39m\u001b[39mWorker Name\u001b[39m\u001b[39m'\u001b[39m:fake\u001b[39m.\u001b[39mname(), \n\u001b[1;32m     18\u001b[0m               \u001b[39m'\u001b[39m\u001b[39mHire Date\u001b[39m\u001b[39m'\u001b[39m:fake\u001b[39m.\u001b[39mdate_between(start_date\u001b[39m=\u001b[39m\u001b[39m'\u001b[39m\u001b[39m-30y\u001b[39m\u001b[39m'\u001b[39m, end_date\u001b[39m=\u001b[39m\u001b[39m'\u001b[39m\u001b[39mtoday\u001b[39m\u001b[39m'\u001b[39m),\n\u001b[1;32m     19\u001b[0m               \u001b[39m'\u001b[39m\u001b[39mWorker Status\u001b[39m\u001b[39m'\u001b[39m:np\u001b[39m.\u001b[39mrandom\u001b[39m.\u001b[39mchoice(status_list, p\u001b[39m=\u001b[39m[\u001b[39m0.50\u001b[39m, \u001b[39m0.30\u001b[39m, \u001b[39m0.20\u001b[39m])}] \u001b[39m# assign items from list with different probabilities\u001b[39;00m\n\u001b[1;32m     20\u001b[0m             \u001b[39m#   'Team':np.random.choice(team_list)} for x in range(num)]\u001b[39;00m\n\u001b[1;32m     22\u001b[0m \u001b[39mreturn\u001b[39;00m fake_workers\n",
      "\u001b[0;31mNameError\u001b[0m: name 'x' is not defined"
     ]
    }
   ],
   "source": [
    "import pandas as pd\n",
    "import numpy as np\n",
    "import faker\n",
    "\n",
    "# create some fake data\n",
    "fake = faker.Faker()\n",
    "\n",
    "# function to create a dataframe with fake values for our workers\n",
    "def make_workers(num):\n",
    "    \n",
    "    # lists to randomly assign to workers\n",
    "    status_list = ['Full Time', 'Part Time', 'Contractual']\n",
    "    team_list = [fake.color_name() for x in range(4)]\n",
    "    \n",
    "\n",
    "    fake_workers = [{'Worker ID':x+1000,\n",
    "                  'Worker Name':fake.name(), \n",
    "                  'Hire Date':fake.date_between(start_date='-30y', end_date='today'),\n",
    "                  'Worker Status':np.random.choice(status_list, p=[0.50, 0.30, 0.20]) # assign items from list with different probabilities\n",
    "                  'Team':np.random.choice(team_list)} for x in range(num)]\n",
    "        \n",
    "    return fake_workers\n",
    "\n",
    "worker_df = pd.DataFrame(make_workers(num=5000))\n",
    "worker_df.head()"
   ]
  },
  {
   "cell_type": "code",
   "execution_count": 11,
   "metadata": {},
   "outputs": [
    {
     "name": "stdout",
     "output_type": "stream",
     "text": [
      "(2815783, 5)\n"
     ]
    },
    {
     "data": {
      "text/html": [
       "<div>\n",
       "<style scoped>\n",
       "    .dataframe tbody tr th:only-of-type {\n",
       "        vertical-align: middle;\n",
       "    }\n",
       "\n",
       "    .dataframe tbody tr th {\n",
       "        vertical-align: top;\n",
       "    }\n",
       "\n",
       "    .dataframe thead th {\n",
       "        text-align: right;\n",
       "    }\n",
       "</style>\n",
       "<table border=\"1\" class=\"dataframe\">\n",
       "  <thead>\n",
       "    <tr style=\"text-align: right;\">\n",
       "      <th></th>\n",
       "      <th>Item Number</th>\n",
       "      <th>Step 1</th>\n",
       "      <th>Step 2</th>\n",
       "      <th>Step 3</th>\n",
       "      <th>Worker ID</th>\n",
       "    </tr>\n",
       "  </thead>\n",
       "  <tbody>\n",
       "    <tr>\n",
       "      <th>0</th>\n",
       "      <td>9801216-1000</td>\n",
       "      <td>0.969185</td>\n",
       "      <td>6.419476</td>\n",
       "      <td>1.116526</td>\n",
       "      <td>1000</td>\n",
       "    </tr>\n",
       "    <tr>\n",
       "      <th>1</th>\n",
       "      <td>9801248-1000</td>\n",
       "      <td>2.132008</td>\n",
       "      <td>5.149420</td>\n",
       "      <td>7.468765</td>\n",
       "      <td>1000</td>\n",
       "    </tr>\n",
       "    <tr>\n",
       "      <th>2</th>\n",
       "      <td>9801280-1000</td>\n",
       "      <td>1.836302</td>\n",
       "      <td>5.025103</td>\n",
       "      <td>4.117338</td>\n",
       "      <td>1000</td>\n",
       "    </tr>\n",
       "    <tr>\n",
       "      <th>3</th>\n",
       "      <td>9801312-1000</td>\n",
       "      <td>2.407165</td>\n",
       "      <td>5.260538</td>\n",
       "      <td>6.703920</td>\n",
       "      <td>1000</td>\n",
       "    </tr>\n",
       "    <tr>\n",
       "      <th>4</th>\n",
       "      <td>9801344-1000</td>\n",
       "      <td>2.160885</td>\n",
       "      <td>5.002607</td>\n",
       "      <td>0.228932</td>\n",
       "      <td>1000</td>\n",
       "    </tr>\n",
       "  </tbody>\n",
       "</table>\n",
       "</div>"
      ],
      "text/plain": [
       "    Item Number    Step 1    Step 2    Step 3  Worker ID\n",
       "0  9801216-1000  0.969185  6.419476  1.116526       1000\n",
       "1  9801248-1000  2.132008  5.149420  7.468765       1000\n",
       "2  9801280-1000  1.836302  5.025103  4.117338       1000\n",
       "3  9801312-1000  2.407165  5.260538  6.703920       1000\n",
       "4  9801344-1000  2.160885  5.002607  0.228932       1000"
      ]
     },
     "execution_count": 11,
     "metadata": {},
     "output_type": "execute_result"
    }
   ],
   "source": [
    "# function to create widget data\n",
    "\n",
    "import random\n",
    "\n",
    "\n",
    "def make_widget_data(num):\n",
    "    \n",
    "    fake_widgets = [{'Item Number':id(y),\n",
    "                     'Step 1':np.random.gamma(shape=3, scale=1),\n",
    "                     'Step 2':np.random.normal(5), \n",
    "                     'Step 3':np.random.exponential(4)} for y in range(num)]\n",
    "    \n",
    "    return fake_widgets\n",
    "\n",
    "# empty list to store our widget dataframes in    \n",
    "dfs_list = []\n",
    "\n",
    "# now lets make some widget data for each worker\n",
    "# iterate through the worker dataframe\n",
    "for index, row in worker_df.iterrows():\n",
    "    \n",
    "    # not all workers work at the same rate - or the same number of hours\n",
    "    # randomly select a number of widgets for them to create based on 'worker status'\n",
    "    if row['Worker Status'] == 'Full Time':\n",
    "        num_widgets = random.randrange(500, 1000)\n",
    "    elif row['Worker Status'] == 'Part Time':\n",
    "        num_widgets = random.randrange(100, 500)\n",
    "    else:\n",
    "        num_widgets = random.randrange(1, 1000)\n",
    "    \n",
    "    # make widgets for each worker\n",
    "    tmp_widgets = pd.DataFrame(make_widget_data(num=num_widgets))\n",
    "    \n",
    "    # add worker id so we know who made the widget\n",
    "    tmp_widgets['Worker ID'] = row['Worker ID']\n",
    "    \n",
    "    # make sure item number is unique by appending worker id\n",
    "    tmp_widgets['Item Number'] = tmp_widgets['Item Number'].astype('str')+ '-' + tmp_widgets['Worker ID'].astype('str')\n",
    "    \n",
    "    # append to df list\n",
    "    dfs_list.append(tmp_widgets)\n",
    "    \n",
    "# concatenate all the dfs \n",
    "widget_df = pd.concat(dfs_list)\n",
    "print(widget_df.shape)\n",
    "widget_df.head()"
   ]
  },
  {
   "cell_type": "code",
   "execution_count": 12,
   "metadata": {},
   "outputs": [],
   "source": [
    "worker_df.to_csv('workers.csv', index=False)"
   ]
  }
 ],
 "metadata": {
  "kernelspec": {
   "display_name": "Python 3.8.10 64-bit",
   "language": "python",
   "name": "python3"
  },
  "language_info": {
   "codemirror_mode": {
    "name": "ipython",
    "version": 3
   },
   "file_extension": ".py",
   "mimetype": "text/x-python",
   "name": "python",
   "nbconvert_exporter": "python",
   "pygments_lexer": "ipython3",
   "version": "3.8.10"
  },
  "orig_nbformat": 4,
  "vscode": {
   "interpreter": {
    "hash": "916dbcbb3f70747c44a77c7bcd40155683ae19c65e1c03b4aa3499c5328201f1"
   }
  }
 },
 "nbformat": 4,
 "nbformat_minor": 2
}
